{
  "nbformat": 4,
  "nbformat_minor": 0,
  "metadata": {
    "colab": {
      "provenance": []
    },
    "kernelspec": {
      "name": "python3",
      "display_name": "Python 3"
    },
    "language_info": {
      "name": "python"
    }
  },
  "cells": [
    {
      "cell_type": "code",
      "execution_count": 1,
      "metadata": {
        "id": "VpH7xmCw1MtR"
      },
      "outputs": [],
      "source": [
        "\"\"\"\n",
        "Write a code using pytorch to replicate a grouped 2D convolution layer based on the original 2D convolution. \n",
        "\n",
        "The common way of using grouped 2D convolution layer in Pytorch is to use \n",
        "torch.nn.Conv2d(groups=n), where n is the number of groups.\n",
        "\n",
        "However, it is possible to use a stack of n torch.nn.Conv2d(groups=1) to replicate the same\n",
        "result. The wights must be copied and be split between the convs in the stack.\n",
        "\n",
        "You can use:\n",
        "    - use default values for anything unspecified  \n",
        "    - all available functions in NumPy and Pytorch\n",
        "    - the custom layer must be able to take all parameters of the original nn.Conv2d \n",
        "\"\"\"\n",
        "\n",
        "import numpy as np\n",
        "import torch\n",
        "import torch.nn as nn\n",
        "\n",
        "\n",
        "torch.manual_seed(8)    # DO NOT MODIFY!\n",
        "np.random.seed(8)   # DO NOT MODIFY!\n",
        "\n",
        "# random input (batch, channels, height, width)\n",
        "x = torch.randn(2, 64, 100, 100)\n",
        "\n",
        "# original 2d convolution\n",
        "grouped_layer = nn.Conv2d(64, 128, 3, stride=1, padding=1, groups=16, bias=True)\n",
        "\n",
        "# weights and bias\n",
        "w_torch = grouped_layer.weight\n",
        "b_torch = grouped_layer.bias\n",
        "\n",
        "y = grouped_layer(x)\n"
      ]
    },
    {
      "cell_type": "code",
      "source": [
        "\n",
        "# Define the custom grouped 2D convolution layer\n",
        "class CustomGroupedConv2D(nn.Module):\n",
        "    def __init__(self, in_channels, out_channels, kernel_size, groups, stride, padding, dilation=1, bias=True):\n",
        "        super(CustomGroupedConv2D, self).__init__()\n",
        "        assert in_channels % groups == 0 and out_channels % groups == 0, \"in_channels and out_channels must be divisible by groups\"\n",
        "        self.groups = groups\n",
        "        self.convs = nn.ModuleList()\n",
        "        for _ in range(groups):\n",
        "            self.convs.append(nn.Conv2d(in_channels // groups, out_channels // groups, kernel_size, stride, padding, dilation, bias))\n",
        "        \n",
        "    def forward(self, x):\n",
        "        x_splits = torch.chunk(x, self.groups, dim=1)\n",
        "        out_splits = []\n",
        "        for conv, x_split in zip(self.convs, x_splits):\n",
        "            out_splits.append(conv(x_split))\n",
        "        out = torch.cat(out_splits, dim=1)\n",
        "        return out\n",
        "\n",
        "custom_grouped_layer = CustomGroupedConv2D(64, 128, 3, stride=1, padding=1, groups=16, bias=True)\n",
        "\n",
        "# Set the weights of the layers to be equal\n",
        "grouped_layer.weight.data = custom_grouped_layer.convs[0].weight.data.clone()\n",
        "grouped_layer.bias.data = custom_grouped_layer.convs[0].bias.data.clone()\n",
        "\n",
        "# Compute the outputs of the layers\n",
        "grouped_output = grouped_layer(x)\n",
        "custom_grouped_output = custom_grouped_layer(x)\n",
        "\n",
        "# Verify that the outputs are equal\n",
        "assert torch.allclose(grouped_output, custom_grouped_output)\n"
      ],
      "metadata": {
        "colab": {
          "base_uri": "https://localhost:8080/",
          "height": 415
        },
        "id": "B_L9NCLZoTX0",
        "outputId": "bce2230f-2131-44c4-8549-0825c654ad9d"
      },
      "execution_count": 3,
      "outputs": [
        {
          "output_type": "error",
          "ename": "RuntimeError",
          "evalue": "ignored",
          "traceback": [
            "\u001b[0;31m---------------------------------------------------------------------------\u001b[0m",
            "\u001b[0;31mRuntimeError\u001b[0m                              Traceback (most recent call last)",
            "\u001b[0;32m<ipython-input-3-b6e0e10a9994>\u001b[0m in \u001b[0;36m<cell line: 26>\u001b[0;34m()\u001b[0m\n\u001b[1;32m     24\u001b[0m \u001b[0;34m\u001b[0m\u001b[0m\n\u001b[1;32m     25\u001b[0m \u001b[0;31m# Compute the outputs of the layers\u001b[0m\u001b[0;34m\u001b[0m\u001b[0;34m\u001b[0m\u001b[0m\n\u001b[0;32m---> 26\u001b[0;31m \u001b[0mgrouped_output\u001b[0m \u001b[0;34m=\u001b[0m \u001b[0mgrouped_layer\u001b[0m\u001b[0;34m(\u001b[0m\u001b[0mx\u001b[0m\u001b[0;34m)\u001b[0m\u001b[0;34m\u001b[0m\u001b[0;34m\u001b[0m\u001b[0m\n\u001b[0m\u001b[1;32m     27\u001b[0m \u001b[0mcustom_grouped_output\u001b[0m \u001b[0;34m=\u001b[0m \u001b[0mcustom_grouped_layer\u001b[0m\u001b[0;34m(\u001b[0m\u001b[0mx\u001b[0m\u001b[0;34m)\u001b[0m\u001b[0;34m\u001b[0m\u001b[0;34m\u001b[0m\u001b[0m\n\u001b[1;32m     28\u001b[0m \u001b[0;34m\u001b[0m\u001b[0m\n",
            "\u001b[0;32m/usr/local/lib/python3.10/dist-packages/torch/nn/modules/module.py\u001b[0m in \u001b[0;36m_call_impl\u001b[0;34m(self, *args, **kwargs)\u001b[0m\n\u001b[1;32m   1499\u001b[0m                 \u001b[0;32mor\u001b[0m \u001b[0m_global_backward_pre_hooks\u001b[0m \u001b[0;32mor\u001b[0m \u001b[0m_global_backward_hooks\u001b[0m\u001b[0;34m\u001b[0m\u001b[0;34m\u001b[0m\u001b[0m\n\u001b[1;32m   1500\u001b[0m                 or _global_forward_hooks or _global_forward_pre_hooks):\n\u001b[0;32m-> 1501\u001b[0;31m             \u001b[0;32mreturn\u001b[0m \u001b[0mforward_call\u001b[0m\u001b[0;34m(\u001b[0m\u001b[0;34m*\u001b[0m\u001b[0margs\u001b[0m\u001b[0;34m,\u001b[0m \u001b[0;34m**\u001b[0m\u001b[0mkwargs\u001b[0m\u001b[0;34m)\u001b[0m\u001b[0;34m\u001b[0m\u001b[0;34m\u001b[0m\u001b[0m\n\u001b[0m\u001b[1;32m   1502\u001b[0m         \u001b[0;31m# Do not call functions when jit is used\u001b[0m\u001b[0;34m\u001b[0m\u001b[0;34m\u001b[0m\u001b[0m\n\u001b[1;32m   1503\u001b[0m         \u001b[0mfull_backward_hooks\u001b[0m\u001b[0;34m,\u001b[0m \u001b[0mnon_full_backward_hooks\u001b[0m \u001b[0;34m=\u001b[0m \u001b[0;34m[\u001b[0m\u001b[0;34m]\u001b[0m\u001b[0;34m,\u001b[0m \u001b[0;34m[\u001b[0m\u001b[0;34m]\u001b[0m\u001b[0;34m\u001b[0m\u001b[0;34m\u001b[0m\u001b[0m\n",
            "\u001b[0;32m/usr/local/lib/python3.10/dist-packages/torch/nn/modules/conv.py\u001b[0m in \u001b[0;36mforward\u001b[0;34m(self, input)\u001b[0m\n\u001b[1;32m    461\u001b[0m \u001b[0;34m\u001b[0m\u001b[0m\n\u001b[1;32m    462\u001b[0m     \u001b[0;32mdef\u001b[0m \u001b[0mforward\u001b[0m\u001b[0;34m(\u001b[0m\u001b[0mself\u001b[0m\u001b[0;34m,\u001b[0m \u001b[0minput\u001b[0m\u001b[0;34m:\u001b[0m \u001b[0mTensor\u001b[0m\u001b[0;34m)\u001b[0m \u001b[0;34m->\u001b[0m \u001b[0mTensor\u001b[0m\u001b[0;34m:\u001b[0m\u001b[0;34m\u001b[0m\u001b[0;34m\u001b[0m\u001b[0m\n\u001b[0;32m--> 463\u001b[0;31m         \u001b[0;32mreturn\u001b[0m \u001b[0mself\u001b[0m\u001b[0;34m.\u001b[0m\u001b[0m_conv_forward\u001b[0m\u001b[0;34m(\u001b[0m\u001b[0minput\u001b[0m\u001b[0;34m,\u001b[0m \u001b[0mself\u001b[0m\u001b[0;34m.\u001b[0m\u001b[0mweight\u001b[0m\u001b[0;34m,\u001b[0m \u001b[0mself\u001b[0m\u001b[0;34m.\u001b[0m\u001b[0mbias\u001b[0m\u001b[0;34m)\u001b[0m\u001b[0;34m\u001b[0m\u001b[0;34m\u001b[0m\u001b[0m\n\u001b[0m\u001b[1;32m    464\u001b[0m \u001b[0;34m\u001b[0m\u001b[0m\n\u001b[1;32m    465\u001b[0m \u001b[0;32mclass\u001b[0m \u001b[0mConv3d\u001b[0m\u001b[0;34m(\u001b[0m\u001b[0m_ConvNd\u001b[0m\u001b[0;34m)\u001b[0m\u001b[0;34m:\u001b[0m\u001b[0;34m\u001b[0m\u001b[0;34m\u001b[0m\u001b[0m\n",
            "\u001b[0;32m/usr/local/lib/python3.10/dist-packages/torch/nn/modules/conv.py\u001b[0m in \u001b[0;36m_conv_forward\u001b[0;34m(self, input, weight, bias)\u001b[0m\n\u001b[1;32m    457\u001b[0m                             \u001b[0mweight\u001b[0m\u001b[0;34m,\u001b[0m \u001b[0mbias\u001b[0m\u001b[0;34m,\u001b[0m \u001b[0mself\u001b[0m\u001b[0;34m.\u001b[0m\u001b[0mstride\u001b[0m\u001b[0;34m,\u001b[0m\u001b[0;34m\u001b[0m\u001b[0;34m\u001b[0m\u001b[0m\n\u001b[1;32m    458\u001b[0m                             _pair(0), self.dilation, self.groups)\n\u001b[0;32m--> 459\u001b[0;31m         return F.conv2d(input, weight, bias, self.stride,\n\u001b[0m\u001b[1;32m    460\u001b[0m                         self.padding, self.dilation, self.groups)\n\u001b[1;32m    461\u001b[0m \u001b[0;34m\u001b[0m\u001b[0m\n",
            "\u001b[0;31mRuntimeError\u001b[0m: Given groups=16, expected weight to be at least 16 at dimension 0, but got weight of size [8, 4, 3, 3] instead"
          ]
        }
      ]
    },
    {
      "cell_type": "code",
      "source": [],
      "metadata": {
        "id": "_48OP51HppXA"
      },
      "execution_count": null,
      "outputs": []
    }
  ]
}